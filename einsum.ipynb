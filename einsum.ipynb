{
 "cells": [
  {
   "cell_type": "markdown",
   "metadata": {},
   "source": [
    "# einsum dev"
   ]
  },
  {
   "cell_type": "code",
   "execution_count": 1,
   "metadata": {},
   "outputs": [],
   "source": [
    "%load_ext autoreload\n",
    "%autoreload 2"
   ]
  },
  {
   "cell_type": "code",
   "execution_count": 2,
   "metadata": {},
   "outputs": [],
   "source": [
    "import numpy as np\n",
    "from numpy.core.einsumfunc import _parse_einsum_input\n",
    "from mygrad.linalg.einsum import einsum"
   ]
  },
  {
   "cell_type": "code",
   "execution_count": 4,
   "metadata": {},
   "outputs": [],
   "source": [
    "from decimal import Decimal\n",
    "from decimal import getcontext\n",
    "getcontext().prec = 25\n",
    "\n",
    "def to_decimal_array(arr):\n",
    "    \"\"\" Convert numpy ND-array to Decimal-type object array of the same shape.\n",
    "        Used for facilitating high-precision arithmetic.\n",
    "\n",
    "        Parameters\n",
    "        ----------\n",
    "        arr : Union[float, numpy.ndarray]\n",
    "\n",
    "        Returns\n",
    "        -------\n",
    "        numpy.ndarray\n",
    "        Decimal-type object array\"\"\"\n",
    "    arr = np.asarray(arr)\n",
    "    return np.array(tuple(Decimal(float(i)) for i in arr.flat), dtype=Decimal).reshape(arr.shape)\n",
    "\n",
    "\n",
    "def numerical_gradient_sequence(f, *, x, back_grad,  h=1e-8):\n",
    "    \"\"\" Computes numerical partial derivatives of f({x}), where f is a numpy-style\n",
    "        sequential function (e.g. numpy.sum, numpy.mean, ...). The partial derivative\n",
    "        is computed for each member of {x}\n",
    "\n",
    "        Parameters\n",
    "        ----------\n",
    "        f : Callable[[numpy.ndarray], numpy.ndarray]\n",
    "            f({x}) -> numpy.ndarray\n",
    "\n",
    "        x : numpy.ndarray\n",
    "            An array storing the sequence(s) of values in the array. More than once\n",
    "            sequence may be designated, according to the `axis` argument of `f`.\n",
    "\n",
    "        axis : Optional[None, int, Tuple[int, ...]]\n",
    "            The value of the `axis` argument, to be fed to `f`.\n",
    "\n",
    "        keepdims : bool, optional (default=False)\n",
    "            The value of the `keepdims` argument, to be fed to `f`.\n",
    "\n",
    "        back_grad : numpy.ndarray\n",
    "            The gradient being back-propagated to {x}, via f\n",
    "\n",
    "        h : float, optional, (default=1e-8)\n",
    "            Approximating infinitesimal.\n",
    "\n",
    "        Returns\n",
    "        -------\n",
    "        numpy.ndarray\n",
    "            df/d{x}\n",
    "        \"\"\"\n",
    "\n",
    "    grad = np.empty_like(x)\n",
    "    x = to_decimal_array(x)\n",
    "    h = Decimal(h)\n",
    "\n",
    "    for ind, val in np.ndenumerate(x):\n",
    "        x_fwd = np.copy(x)\n",
    "        x_fwd[ind] += h\n",
    "        f_fwd = to_decimal_array(f(x_fwd.astype(float)))\n",
    "\n",
    "        x_bkwd = x_fwd\n",
    "        x_bkwd[ind] -= Decimal(2) * h\n",
    "        f_bkwd = to_decimal_array(f(x_bkwd.astype(float)))\n",
    "\n",
    "        dxi = to_decimal_array((f_fwd - f_bkwd) / (Decimal(2) * h))\n",
    "        grad[ind] = (dxi.astype('float') * back_grad).sum()\n",
    "    return grad.astype(float)\n",
    "\n",
    "def backprop_linalg(f, *args, back_grad):\n",
    "    grads = []\n",
    "    args = tuple(i for i in args)\n",
    "    for n in range(len(args)):\n",
    "        tmp_f = lambda var: f(*args[:n], var, *args[n+1:])\n",
    "        grads.append(numerical_gradient_sequence(tmp_f, x=args[n], back_grad=back_grad))\n",
    "    return grads"
   ]
  },
  {
   "cell_type": "markdown",
   "metadata": {},
   "source": [
    "\\begin{equation}\n",
    "f = X_i Y_i\\\\\n",
    "\\frac{\\partial L}{\\partial X_a} = \\frac{\\partial L}{\\partial f}Y_a\\\\\n",
    "\\frac{\\partial L}{\\partial Y_a} = X_a\\frac{\\partial L}{\\partial f}\\\\\n",
    "\\end{equation}"
   ]
  },
  {
   "cell_type": "code",
   "execution_count": 18,
   "metadata": {},
   "outputs": [],
   "source": [
    "x = np.random.rand(3)\n",
    "y = np.random.rand(3)\n",
    "grad = np.random.rand(1).item()\n",
    "\n",
    "\n",
    "# fwd pass function\n",
    "np.allclose(np.einsum(\"i, i\", x, y), np.dot(x, y))\n",
    "def f(x, y): return np.einsum(\"i, i\", x, y)\n",
    "dfdx = np.einsum(\"..., i\", grad, y)\n",
    "dfdy = np.einsum(\"i, ...\", x, grad)\n",
    "dx, dy = backprop_linalg(f , x, y, back_grad=grad)\n",
    "\n",
    "assert np.allclose(dfdx, dx)\n",
    "assert np.allclose(dfdy, dy) "
   ]
  },
  {
   "cell_type": "code",
   "execution_count": 13,
   "metadata": {},
   "outputs": [
    {
     "ename": "ValueError",
     "evalue": "must provide at least an operand and a subscripts list to einsum",
     "output_type": "error",
     "traceback": [
      "\u001b[1;31m---------------------------------------------------------------------------\u001b[0m",
      "\u001b[1;31mValueError\u001b[0m                                Traceback (most recent call last)",
      "\u001b[1;32m<ipython-input-13-8fd1a14bfc48>\u001b[0m in \u001b[0;36m<module>\u001b[1;34m()\u001b[0m\n\u001b[1;32m----> 1\u001b[1;33m \u001b[0mnp\u001b[0m\u001b[1;33m.\u001b[0m\u001b[0meinsum\u001b[0m\u001b[1;33m(\u001b[0m\u001b[0ma\u001b[0m\u001b[1;33m)\u001b[0m\u001b[1;33m\u001b[0m\u001b[0m\n\u001b[0m",
      "\u001b[1;32m~\\Anaconda3\\lib\\site-packages\\numpy\\core\\einsumfunc.py\u001b[0m in \u001b[0;36meinsum\u001b[1;34m(*operands, **kwargs)\u001b[0m\n\u001b[0;32m   1067\u001b[0m     \u001b[1;31m# If no optimization, run pure einsum\u001b[0m\u001b[1;33m\u001b[0m\u001b[1;33m\u001b[0m\u001b[0m\n\u001b[0;32m   1068\u001b[0m     \u001b[1;32mif\u001b[0m \u001b[0moptimize_arg\u001b[0m \u001b[1;32mis\u001b[0m \u001b[1;32mFalse\u001b[0m\u001b[1;33m:\u001b[0m\u001b[1;33m\u001b[0m\u001b[0m\n\u001b[1;32m-> 1069\u001b[1;33m         \u001b[1;32mreturn\u001b[0m \u001b[0mc_einsum\u001b[0m\u001b[1;33m(\u001b[0m\u001b[1;33m*\u001b[0m\u001b[0moperands\u001b[0m\u001b[1;33m,\u001b[0m \u001b[1;33m**\u001b[0m\u001b[0mkwargs\u001b[0m\u001b[1;33m)\u001b[0m\u001b[1;33m\u001b[0m\u001b[0m\n\u001b[0m\u001b[0;32m   1070\u001b[0m \u001b[1;33m\u001b[0m\u001b[0m\n\u001b[0;32m   1071\u001b[0m     \u001b[0mvalid_einsum_kwargs\u001b[0m \u001b[1;33m=\u001b[0m \u001b[1;33m[\u001b[0m\u001b[1;34m'out'\u001b[0m\u001b[1;33m,\u001b[0m \u001b[1;34m'dtype'\u001b[0m\u001b[1;33m,\u001b[0m \u001b[1;34m'order'\u001b[0m\u001b[1;33m,\u001b[0m \u001b[1;34m'casting'\u001b[0m\u001b[1;33m]\u001b[0m\u001b[1;33m\u001b[0m\u001b[0m\n",
      "\u001b[1;31mValueError\u001b[0m: must provide at least an operand and a subscripts list to einsum"
     ]
    }
   ],
   "source": [
    "np.einsum(a)"
   ]
  },
  {
   "cell_type": "code",
   "execution_count": 14,
   "metadata": {},
   "outputs": [
    {
     "data": {
      "text/plain": [
       "('aa', 'a', [array([[ 0,  1,  2,  3,  4],\n",
       "         [ 5,  6,  7,  8,  9],\n",
       "         [10, 11, 12, 13, 14],\n",
       "         [15, 16, 17, 18, 19],\n",
       "         [20, 21, 22, 23, 24]])])"
      ]
     },
     "execution_count": 14,
     "metadata": {},
     "output_type": "execute_result"
    }
   ],
   "source": [
    ">>> a = np.arange(25).reshape(5,5)\n",
    ">>> b = np.arange(5)\n",
    ">>> c = np.arange(6).reshape(2,3)\n",
    "\n",
    "_parse_einsum_input((a, [0,0], [0]))"
   ]
  },
  {
   "cell_type": "code",
   "execution_count": 6,
   "metadata": {},
   "outputs": [
    {
     "data": {
      "text/plain": [
       "Tensor(0.3458595614583897)"
      ]
     },
     "execution_count": 6,
     "metadata": {},
     "output_type": "execute_result"
    }
   ],
   "source": [
    "einsum(\"i, i\", x, y)"
   ]
  },
  {
   "cell_type": "markdown",
   "metadata": {},
   "source": [
    "\\begin{equation}\n",
    "f_a = X_{ia} Y_i\\\\\n",
    "\\frac{\\partial L}{\\partial X_{ia}} = \\big[\\frac{\\partial L}{\\partial f}\\big]_aY_i\\\\\n",
    "\\frac{\\partial L}{\\partial Y_i} = X_{ia}\\big[\\frac{\\partial L}{\\partial f}\\big]_{a}\\\\\n",
    "\\end{equation}"
   ]
  },
  {
   "cell_type": "code",
   "execution_count": 20,
   "metadata": {},
   "outputs": [
    {
     "data": {
      "text/plain": [
       "('aa', '', [array([[ 0,  1,  2,  3,  4],\n",
       "         [ 5,  6,  7,  8,  9],\n",
       "         [10, 11, 12, 13, 14],\n",
       "         [15, 16, 17, 18, 19],\n",
       "         [20, 21, 22, 23, 24]])])"
      ]
     },
     "execution_count": 20,
     "metadata": {},
     "output_type": "execute_result"
    }
   ],
   "source": [
    "_parse_einsum_input((a, [0, 0]))"
   ]
  },
  {
   "cell_type": "code",
   "execution_count": 30,
   "metadata": {},
   "outputs": [
    {
     "data": {
      "text/plain": [
       "array([[10, 28, 46, 64],\n",
       "       [13, 40, 67, 94]])"
      ]
     },
     "execution_count": 30,
     "metadata": {},
     "output_type": "execute_result"
    }
   ],
   "source": [
    ">>> a = np.arange(6).reshape((3,2))\n",
    ">>> b = np.arange(12).reshape((4,3))\n",
    ">>> np.einsum('k...,jk', a, b)"
   ]
  },
  {
   "cell_type": "code",
   "execution_count": 31,
   "metadata": {},
   "outputs": [
    {
     "data": {
      "text/plain": [
       "array([[10, 28, 46, 64],\n",
       "       [13, 40, 67, 94]])"
      ]
     },
     "execution_count": 31,
     "metadata": {},
     "output_type": "execute_result"
    }
   ],
   "source": [
    "np.einsum(a, [0, Ellipsis], b, [2, 0])"
   ]
  },
  {
   "cell_type": "code",
   "execution_count": 16,
   "metadata": {},
   "outputs": [
    {
     "data": {
      "text/plain": [
       "('ia,i', 'a', [array([[0.53369578, 0.52774017, 0.56496211, 0.54836422],\n",
       "         [0.84556295, 0.94586904, 0.86975989, 0.52495072],\n",
       "         [0.98848596, 0.42243614, 0.25886365, 0.8120052 ]]),\n",
       "  array([0.16823345, 0.99113357, 0.68551716])])"
      ]
     },
     "execution_count": 16,
     "metadata": {},
     "output_type": "execute_result"
    }
   ],
   "source": [
    "_parse_einsum_input((\"ia, i -> a\", x, y))"
   ]
  },
  {
   "cell_type": "code",
   "execution_count": 15,
   "metadata": {},
   "outputs": [],
   "source": [
    "x = np.random.rand(3, 4)\n",
    "y = np.random.rand(3)\n",
    "grad = np.random.rand(4)\n",
    "\n",
    "\n",
    "def f(x, y): return np.einsum(\"ia, i -> a\", x, y)\n",
    "\n",
    "dfdx = np.einsum(\"a, i -> ia\", grad, y)\n",
    "dfdy = np.einsum(\"ia, a\", x, grad)\n",
    "\n",
    "dx, dy = backprop_linalg(f , x, y, back_grad=grad)\n",
    "\n",
    "assert np.allclose(dfdx, dx)\n",
    "assert np.allclose(dfdy, dy)"
   ]
  },
  {
   "cell_type": "markdown",
   "metadata": {},
   "source": [
    "\\begin{equation}\n",
    "f_{ab} = X_{ai} Y_{ib}\\\\\n",
    "\\frac{\\partial L}{\\partial X_{ai}} = \\big[\\frac{\\partial L}{\\partial f}\\big]_{ab}Y_{ib}\\\\\n",
    "\\frac{\\partial L}{\\partial Y_{ib}} = X_{ai}\\big[\\frac{\\partial L}{\\partial f}\\big]_{ab}\\\\\n",
    "\\end{equation}"
   ]
  },
  {
   "cell_type": "code",
   "execution_count": 16,
   "metadata": {},
   "outputs": [],
   "source": [
    "x = np.random.rand(3, 4)\n",
    "y = np.random.rand(4, 2)\n",
    "grad = np.random.rand(3, 2)\n",
    "\n",
    "# fwd pass function\n",
    "def f(x, y): return np.einsum(\"ai, ib\", x, y)\n",
    "\n",
    "dfdx = np.einsum(\"ab, ib\", grad, y)\n",
    "dfdy = np.einsum(\"ai, ab -> ib\", x, grad)\n",
    "\n",
    "dx, dy = backprop_linalg(f, x, y, back_grad=grad)\n",
    "\n",
    "assert np.allclose(dfdx, dx)\n",
    "assert np.allclose(dfdy, dy)"
   ]
  },
  {
   "cell_type": "markdown",
   "metadata": {},
   "source": [
    "\\begin{equation}\n",
    "f_{aBCd} = X_{iBCj} Y_{aijd}\\\\\n",
    "\\frac{\\partial L}{\\partial X_{iBCj}} = \\big[\\frac{\\partial L}{\\partial f}\\big]_{aBCd}Y_{aijd}\\\\\n",
    "\\frac{\\partial L}{\\partial Y_{aijd}} = X_{iBCj}\\big[\\frac{\\partial L}{\\partial f}\\big]_{aBCd}\\\\\n",
    "\\end{equation}"
   ]
  },
  {
   "cell_type": "code",
   "execution_count": 19,
   "metadata": {},
   "outputs": [],
   "source": [
    "x = np.random.rand(6, 3, 4, 7)\n",
    "y = np.random.rand(1, 6, 7, 2)\n",
    "grad = np.random.rand(1, 3, 4, 2)\n",
    "\n",
    "def f(x, y): return np.einsum(\"iBCj, aijd -> aBCd\", x, y)\n",
    "\n",
    "dfdx = np.einsum(\"aBCd, aijd -> iBCj\", grad, y)\n",
    "dfdy = np.einsum(\"aBCd, iBCj -> aijd\", grad, x)\n",
    "\n",
    "dx, dy = backprop_linalg(f, x, y, back_grad=grad)\n",
    "\n",
    "assert np.allclose(dfdx, dx)\n",
    "assert np.allclose(dfdy, dy)"
   ]
  },
  {
   "cell_type": "code",
   "execution_count": 82,
   "metadata": {},
   "outputs": [
    {
     "data": {
      "text/plain": [
       "array([[[[ 9.75961412, 11.2738716 ],\n",
       "         [10.54329569, 11.45274101],\n",
       "         [13.04174456, 15.32372693],\n",
       "         [12.50578688, 14.12400693]],\n",
       "\n",
       "        [[10.51790034, 11.04253852],\n",
       "         [12.02509079, 12.74567501],\n",
       "         [10.95296063, 14.16075399],\n",
       "         [ 9.65389081, 10.95986723]],\n",
       "\n",
       "        [[10.04625651, 12.30753986],\n",
       "         [10.97285038, 13.21286666],\n",
       "         [12.28231682, 12.73070599],\n",
       "         [10.50828129, 11.80353908]]]])"
      ]
     },
     "execution_count": 82,
     "metadata": {},
     "output_type": "execute_result"
    }
   ],
   "source": [
    "np.einsum(\"ibcj,aijd->abcd\", x, y)"
   ]
  },
  {
   "cell_type": "code",
   "execution_count": 29,
   "metadata": {},
   "outputs": [],
   "source": [
    "def arr(*shape): return np.random.rand(*shape)"
   ]
  },
  {
   "cell_type": "code",
   "execution_count": 76,
   "metadata": {},
   "outputs": [],
   "source": [
    "x = arr(3,2,4)\n",
    "y = arr(1,1,4)"
   ]
  },
  {
   "cell_type": "code",
   "execution_count": 63,
   "metadata": {},
   "outputs": [
    {
     "data": {
      "text/plain": [
       "array([[[0.01193077, 0.352678  , 0.48184998, 0.124214  ],\n",
       "        [0.00319909, 0.18915548, 0.05267074, 0.10196847]],\n",
       "\n",
       "       [[0.03967746, 0.33860053, 0.36308553, 0.281475  ],\n",
       "        [0.00681724, 0.45875322, 0.13282656, 0.2306132 ]],\n",
       "\n",
       "       [[0.0443181 , 0.54715235, 0.48651136, 0.28359557],\n",
       "        [0.00366073, 0.15340006, 0.00898187, 0.77429298]]])"
      ]
     },
     "execution_count": 63,
     "metadata": {},
     "output_type": "execute_result"
    }
   ],
   "source": [
    "(x*y)"
   ]
  },
  {
   "cell_type": "code",
   "execution_count": 72,
   "metadata": {},
   "outputs": [],
   "source": [
    "x = arr(3)"
   ]
  },
  {
   "cell_type": "code",
   "execution_count": 74,
   "metadata": {},
   "outputs": [
    {
     "ename": "ValueError",
     "evalue": "einstein sum subscripts string includes output subscript 'i' multiple times",
     "output_type": "error",
     "traceback": [
      "\u001b[1;31m---------------------------------------------------------------------------\u001b[0m",
      "\u001b[1;31mValueError\u001b[0m                                Traceback (most recent call last)",
      "\u001b[1;32m<ipython-input-74-8ac044c24a02>\u001b[0m in \u001b[0;36m<module>\u001b[1;34m()\u001b[0m\n\u001b[1;32m----> 1\u001b[1;33m \u001b[0mnp\u001b[0m\u001b[1;33m.\u001b[0m\u001b[0meinsum\u001b[0m\u001b[1;33m(\u001b[0m\u001b[1;34m\"i->ii\"\u001b[0m\u001b[1;33m,\u001b[0m \u001b[0mx\u001b[0m\u001b[1;33m)\u001b[0m\u001b[1;33m\u001b[0m\u001b[0m\n\u001b[0m",
      "\u001b[1;32m~\\Anaconda3\\lib\\site-packages\\numpy\\core\\einsumfunc.py\u001b[0m in \u001b[0;36meinsum\u001b[1;34m(*operands, **kwargs)\u001b[0m\n\u001b[0;32m   1067\u001b[0m     \u001b[1;31m# If no optimization, run pure einsum\u001b[0m\u001b[1;33m\u001b[0m\u001b[1;33m\u001b[0m\u001b[0m\n\u001b[0;32m   1068\u001b[0m     \u001b[1;32mif\u001b[0m \u001b[0moptimize_arg\u001b[0m \u001b[1;32mis\u001b[0m \u001b[1;32mFalse\u001b[0m\u001b[1;33m:\u001b[0m\u001b[1;33m\u001b[0m\u001b[0m\n\u001b[1;32m-> 1069\u001b[1;33m         \u001b[1;32mreturn\u001b[0m \u001b[0mc_einsum\u001b[0m\u001b[1;33m(\u001b[0m\u001b[1;33m*\u001b[0m\u001b[0moperands\u001b[0m\u001b[1;33m,\u001b[0m \u001b[1;33m**\u001b[0m\u001b[0mkwargs\u001b[0m\u001b[1;33m)\u001b[0m\u001b[1;33m\u001b[0m\u001b[0m\n\u001b[0m\u001b[0;32m   1070\u001b[0m \u001b[1;33m\u001b[0m\u001b[0m\n\u001b[0;32m   1071\u001b[0m     \u001b[0mvalid_einsum_kwargs\u001b[0m \u001b[1;33m=\u001b[0m \u001b[1;33m[\u001b[0m\u001b[1;34m'out'\u001b[0m\u001b[1;33m,\u001b[0m \u001b[1;34m'dtype'\u001b[0m\u001b[1;33m,\u001b[0m \u001b[1;34m'order'\u001b[0m\u001b[1;33m,\u001b[0m \u001b[1;34m'casting'\u001b[0m\u001b[1;33m]\u001b[0m\u001b[1;33m\u001b[0m\u001b[0m\n",
      "\u001b[1;31mValueError\u001b[0m: einstein sum subscripts string includes output subscript 'i' multiple times"
     ]
    }
   ],
   "source": [
    "np.einsum(\"i->ii\", x)"
   ]
  },
  {
   "cell_type": "code",
   "execution_count": 77,
   "metadata": {},
   "outputs": [
    {
     "data": {
      "text/plain": [
       "array([[[ 8.38892778, 11.24371902,  4.12828738, 11.69130208]]])"
      ]
     },
     "execution_count": 77,
     "metadata": {},
     "output_type": "execute_result"
    }
   ],
   "source": [
    "np.einsum(\"ijk,...->...\", x, y)"
   ]
  },
  {
   "cell_type": "code",
   "execution_count": 81,
   "metadata": {},
   "outputs": [
    {
     "data": {
      "text/plain": [
       "array([[[[ 9.75961412, 11.2738716 ],\n",
       "         [10.54329569, 11.45274101],\n",
       "         [13.04174456, 15.32372693],\n",
       "         [12.50578688, 14.12400693]],\n",
       "\n",
       "        [[10.51790034, 11.04253852],\n",
       "         [12.02509079, 12.74567501],\n",
       "         [10.95296063, 14.16075399],\n",
       "         [ 9.65389081, 10.95986723]],\n",
       "\n",
       "        [[10.04625651, 12.30753986],\n",
       "         [10.97285038, 13.21286666],\n",
       "         [12.28231682, 12.73070599],\n",
       "         [10.50828129, 11.80353908]]]])"
      ]
     },
     "execution_count": 81,
     "metadata": {},
     "output_type": "execute_result"
    }
   ],
   "source": [
    "np.tensordot(x, y, [[0, 3], [1, 2]]).transpose(2, 0, 1, 3)"
   ]
  },
  {
   "cell_type": "code",
   "execution_count": 42,
   "metadata": {},
   "outputs": [],
   "source": [
    "dx, dy = backprop_linalg(np.dot, x, y, back_grad=grad)"
   ]
  },
  {
   "cell_type": "code",
   "execution_count": 31,
   "metadata": {},
   "outputs": [
    {
     "data": {
      "text/plain": [
       "array([[1.23289217, 0.30646453, 0.51300205, 0.88965838],\n",
       "       [0.60798617, 0.24371856, 0.07130679, 0.73327706],\n",
       "       [0.47803916, 0.17882325, 0.08119049, 0.53581647]])"
      ]
     },
     "execution_count": 31,
     "metadata": {},
     "output_type": "execute_result"
    }
   ],
   "source": [
    "numerical_gradient_sequence(fx, x=x, back_grad=grad)"
   ]
  },
  {
   "cell_type": "code",
   "execution_count": 43,
   "metadata": {},
   "outputs": [
    {
     "data": {
      "text/plain": [
       "True"
      ]
     },
     "execution_count": 43,
     "metadata": {},
     "output_type": "execute_result"
    }
   ],
   "source": [
    "np.allclose(np.einsum(\"ai,bi\", grad, y), dx)"
   ]
  },
  {
   "cell_type": "code",
   "execution_count": 34,
   "metadata": {},
   "outputs": [
    {
     "data": {
      "text/plain": [
       "array([[0.60317337, 0.28455023],\n",
       "       [0.46700131, 0.28474071],\n",
       "       [1.22450942, 0.90343718],\n",
       "       [0.90322037, 0.21694252]])"
      ]
     },
     "execution_count": 34,
     "metadata": {},
     "output_type": "execute_result"
    }
   ],
   "source": [
    "numerical_gradient_sequence(fy, x=y, back_grad=grad)"
   ]
  },
  {
   "cell_type": "code",
   "execution_count": 44,
   "metadata": {},
   "outputs": [
    {
     "data": {
      "text/plain": [
       "True"
      ]
     },
     "execution_count": 44,
     "metadata": {},
     "output_type": "execute_result"
    }
   ],
   "source": [
    "np.allclose(np.einsum(\"ia,ib\", x, grad), dy)"
   ]
  },
  {
   "cell_type": "code",
   "execution_count": null,
   "metadata": {},
   "outputs": [],
   "source": []
  }
 ],
 "metadata": {
  "kernelspec": {
   "display_name": "Python 3",
   "language": "python",
   "name": "python3"
  },
  "language_info": {
   "codemirror_mode": {
    "name": "ipython",
    "version": 3
   },
   "file_extension": ".py",
   "mimetype": "text/x-python",
   "name": "python",
   "nbconvert_exporter": "python",
   "pygments_lexer": "ipython3",
   "version": "3.6.3"
  }
 },
 "nbformat": 4,
 "nbformat_minor": 2
}
