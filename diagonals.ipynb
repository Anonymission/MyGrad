{
 "cells": [
  {
   "cell_type": "markdown",
   "metadata": {},
   "source": [
    "# Diagonal"
   ]
  },
  {
   "cell_type": "markdown",
   "metadata": {},
   "source": [
    "https://github.com/numpy/numpy/issues/4965"
   ]
  },
  {
   "cell_type": "code",
   "execution_count": 1,
   "metadata": {},
   "outputs": [],
   "source": [
    "# `ijk,ik->ijiji'\n",
    "\n",
    "import numpy as np\n",
    "i,j,k = 10, 20, 30\n",
    "a = np.random.rand(i, j, k)\n",
    "b = np.random.rand(j,k)\n",
    "out = np.zeros((i, j, i, j, i))\n",
    "from numpy.lib.stride_tricks import as_strided\n",
    "out_view = as_strided(out, shape=(i, j),\n",
    "                       strides=(out.strides[0]+out.strides[2]+out.strides[4],\n",
    "                                out.strides[1]+out.strides[3]))\n",
    "#np.einsum('ijk,jk->ij', a, b, out=out_view)"
   ]
  },
  {
   "cell_type": "code",
   "execution_count": 2,
   "metadata": {},
   "outputs": [],
   "source": [
    "def arr(*shape):\n",
    "    return np.arange(np.prod(shape)).reshape(shape)"
   ]
  },
  {
   "cell_type": "code",
   "execution_count": 16,
   "metadata": {},
   "outputs": [],
   "source": [
    "from itertools import filterfalse\n",
    "def unique_from_end(in_str):\n",
    "    \"\"\" Return a string with all redundant characters removed, \n",
    "        removing left-most redundant entries\n",
    "        \n",
    "        i.e. \"ijikik\" -> \"jik\" \n",
    "        \n",
    "        Parameters\n",
    "        ----------\n",
    "        in_str: str\n",
    "        \n",
    "        Returns\n",
    "        -------\n",
    "        str\"\"\"\n",
    "    def seen(x, store=[]): \n",
    "        seen = x in store\n",
    "        if not seen: \n",
    "            store.append(x)\n",
    "        return seen\n",
    "\n",
    "    return \"\".join((filterfalse(seen, in_str[::-1])))[::-1]\n",
    "\n",
    "def test_unique_from_end():\n",
    "    assert unique_from_end(\"\") == \"\"\n",
    "    assert unique_from_end(\"a\") == \"a\"\n",
    "    assert unique_from_end(\"aaaa\") == \"a\"\n",
    "    assert unique_from_end(\"aba\") == \"ba\"\n",
    "    assert unique_from_end(\"abccbac\") == \"bac\" \n",
    "\n",
    "def parse_labels_for_repeats(lbls):\n",
    "    \"\"\" `parse_labels_for_repeats('ijkji') -> 'kji`, {i, j}\"\"\"\n",
    "    unique_labels = unique_from_end(lbls)\n",
    "    repeat_lbls = set(i for i in unique_labels if lbls.count(i) > 1)\n",
    "    return unique_labels, repeat_lbls\n",
    "\n",
    "test_unique_from_end()"
   ]
  },
  {
   "cell_type": "code",
   "execution_count": 4,
   "metadata": {},
   "outputs": [],
   "source": [
    "def lbl_to_size_mapping(lbls, shape):\n",
    "    mapping = {}\n",
    "    for lbl, size in zip(lbls, shape):\n",
    "        if mapping.get(lbl, 0) < size:\n",
    "            mapping[lbl] = size\n",
    "    return mapping\n",
    "\n",
    "def merge_max_mappings(*mappings):\n",
    "    assert len(mappings) > 0\n",
    "    mapping = mappings[0]\n",
    "    for mapp in mappings:\n",
    "        for key, val in mapp.items():\n",
    "            if mapping.get(key, 0) < val:\n",
    "                mapping[key] = val\n",
    "    return mapping"
   ]
  },
  {
   "cell_type": "code",
   "execution_count": 68,
   "metadata": {},
   "outputs": [],
   "source": [
    "script = 'ijkji,ik->jk'\n",
    "i = 2\n",
    "j = 3\n",
    "k = 4\n",
    "x = arr(i,j,k,j,i)\n",
    "y = arr(i,k)\n",
    "grad = arr(j, k)\n",
    "xlbls = \"ijkji\"\n",
    "ylbls = \"ik\"\n",
    "grad_lbls = \"jk\"\n",
    "xshape = x.shape\n",
    "yshape = y.shape\n",
    "\n",
    "var_lbl, repeat_lbls = parse_labels_for_repeats(xlbls)"
   ]
  },
  {
   "cell_type": "code",
   "execution_count": 69,
   "metadata": {},
   "outputs": [
    {
     "data": {
      "text/plain": [
       "array([[ 292,  401,  534,  691],\n",
       "       [ 396,  557,  742,  951],\n",
       "       [ 500,  713,  950, 1211]])"
      ]
     },
     "execution_count": 69,
     "metadata": {},
     "output_type": "execute_result"
    }
   ],
   "source": [
    "np.einsum(script, x, y)"
   ]
  },
  {
   "cell_type": "code",
   "execution_count": 70,
   "metadata": {},
   "outputs": [],
   "source": [
    "size_mappings = ({k: v for k, v in zip(lbl, arr.shape)}\n",
    "                 for lbl, arr in zip([xlbls, ylbls], [x, y]))\n",
    "lbl_to_size = merge_max_mappings(*size_mappings)"
   ]
  },
  {
   "cell_type": "code",
   "execution_count": 71,
   "metadata": {},
   "outputs": [],
   "source": [
    "out = np.zeros(tuple(lbl_to_size[i] for i in xlbls))"
   ]
  },
  {
   "cell_type": "code",
   "execution_count": 72,
   "metadata": {},
   "outputs": [],
   "source": [
    "out_view_shape = tuple(lbl_to_size[i] for i in var_lbl)"
   ]
  },
  {
   "cell_type": "code",
   "execution_count": 73,
   "metadata": {},
   "outputs": [],
   "source": [
    "def get_indices(item, seq): return (n for n, x in enumerate(seq) if x == item) "
   ]
  },
  {
   "cell_type": "code",
   "execution_count": 74,
   "metadata": {},
   "outputs": [],
   "source": [
    "strides = tuple(sum(out.strides[ind] for ind in get_indices(lbl, xlbls)) for lbl in var_lbl)"
   ]
  },
  {
   "cell_type": "code",
   "execution_count": 75,
   "metadata": {},
   "outputs": [
    {
     "data": {
      "text/plain": [
       "(48, 208, 584)"
      ]
     },
     "execution_count": 75,
     "metadata": {},
     "output_type": "execute_result"
    }
   ],
   "source": [
    "strides"
   ]
  },
  {
   "cell_type": "code",
   "execution_count": 76,
   "metadata": {},
   "outputs": [],
   "source": [
    "out_view = as_strided(out, shape=out_view_shape, strides=strides)"
   ]
  },
  {
   "cell_type": "code",
   "execution_count": 77,
   "metadata": {},
   "outputs": [
    {
     "data": {
      "text/plain": [
       "'kji'"
      ]
     },
     "execution_count": 77,
     "metadata": {},
     "output_type": "execute_result"
    }
   ],
   "source": [
    "var_lbl"
   ]
  },
  {
   "cell_type": "code",
   "execution_count": 78,
   "metadata": {},
   "outputs": [
    {
     "data": {
      "text/plain": [
       "'jk'"
      ]
     },
     "execution_count": 78,
     "metadata": {},
     "output_type": "execute_result"
    }
   ],
   "source": [
    "grad_lbls"
   ]
  },
  {
   "cell_type": "code",
   "execution_count": 79,
   "metadata": {},
   "outputs": [
    {
     "data": {
      "text/plain": [
       "(3, 4)"
      ]
     },
     "execution_count": 79,
     "metadata": {},
     "output_type": "execute_result"
    }
   ],
   "source": [
    "grad.shape"
   ]
  },
  {
   "cell_type": "code",
   "execution_count": 80,
   "metadata": {},
   "outputs": [
    {
     "data": {
      "text/plain": [
       "'jk,ik->kji'"
      ]
     },
     "execution_count": 80,
     "metadata": {},
     "output_type": "execute_result"
    }
   ],
   "source": [
    "grad_lbls+','+ylbls+\"->\"+var_lbl"
   ]
  },
  {
   "cell_type": "code",
   "execution_count": 84,
   "metadata": {},
   "outputs": [
    {
     "data": {
      "text/plain": [
       "array([[[ 0.,  0.],\n",
       "        [ 0., 16.],\n",
       "        [ 0., 32.]],\n",
       "\n",
       "       [[ 1.,  5.],\n",
       "        [ 5., 25.],\n",
       "        [ 9., 45.]],\n",
       "\n",
       "       [[ 4., 12.],\n",
       "        [12., 36.],\n",
       "        [20., 60.]],\n",
       "\n",
       "       [[ 9., 21.],\n",
       "        [21., 49.],\n",
       "        [33., 77.]]])"
      ]
     },
     "execution_count": 84,
     "metadata": {},
     "output_type": "execute_result"
    }
   ],
   "source": [
    "np.einsum(grad_lbls+','+ylbls+\"->\"+var_lbl, grad, y, out=out_view)"
   ]
  },
  {
   "cell_type": "code",
   "execution_count": 85,
   "metadata": {},
   "outputs": [
    {
     "data": {
      "text/plain": [
       "array([[[[[ 0.,  0.],\n",
       "          [ 0.,  0.],\n",
       "          [ 0.,  0.]],\n",
       "\n",
       "         [[ 1.,  0.],\n",
       "          [ 0.,  0.],\n",
       "          [ 0.,  0.]],\n",
       "\n",
       "         [[ 4.,  0.],\n",
       "          [ 0.,  0.],\n",
       "          [ 0.,  0.]],\n",
       "\n",
       "         [[ 9.,  0.],\n",
       "          [ 0.,  0.],\n",
       "          [ 0.,  0.]]],\n",
       "\n",
       "\n",
       "        [[[ 0.,  0.],\n",
       "          [ 0.,  0.],\n",
       "          [ 0.,  0.]],\n",
       "\n",
       "         [[ 0.,  0.],\n",
       "          [ 5.,  0.],\n",
       "          [ 0.,  0.]],\n",
       "\n",
       "         [[ 0.,  0.],\n",
       "          [12.,  0.],\n",
       "          [ 0.,  0.]],\n",
       "\n",
       "         [[ 0.,  0.],\n",
       "          [21.,  0.],\n",
       "          [ 0.,  0.]]],\n",
       "\n",
       "\n",
       "        [[[ 0.,  0.],\n",
       "          [ 0.,  0.],\n",
       "          [ 0.,  0.]],\n",
       "\n",
       "         [[ 0.,  0.],\n",
       "          [ 0.,  0.],\n",
       "          [ 9.,  0.]],\n",
       "\n",
       "         [[ 0.,  0.],\n",
       "          [ 0.,  0.],\n",
       "          [20.,  0.]],\n",
       "\n",
       "         [[ 0.,  0.],\n",
       "          [ 0.,  0.],\n",
       "          [33.,  0.]]]],\n",
       "\n",
       "\n",
       "\n",
       "       [[[[ 0.,  0.],\n",
       "          [ 0.,  0.],\n",
       "          [ 0.,  0.]],\n",
       "\n",
       "         [[ 0.,  5.],\n",
       "          [ 0.,  0.],\n",
       "          [ 0.,  0.]],\n",
       "\n",
       "         [[ 0., 12.],\n",
       "          [ 0.,  0.],\n",
       "          [ 0.,  0.]],\n",
       "\n",
       "         [[ 0., 21.],\n",
       "          [ 0.,  0.],\n",
       "          [ 0.,  0.]]],\n",
       "\n",
       "\n",
       "        [[[ 0.,  0.],\n",
       "          [ 0., 16.],\n",
       "          [ 0.,  0.]],\n",
       "\n",
       "         [[ 0.,  0.],\n",
       "          [ 0., 25.],\n",
       "          [ 0.,  0.]],\n",
       "\n",
       "         [[ 0.,  0.],\n",
       "          [ 0., 36.],\n",
       "          [ 0.,  0.]],\n",
       "\n",
       "         [[ 0.,  0.],\n",
       "          [ 0., 49.],\n",
       "          [ 0.,  0.]]],\n",
       "\n",
       "\n",
       "        [[[ 0.,  0.],\n",
       "          [ 0.,  0.],\n",
       "          [ 0., 32.]],\n",
       "\n",
       "         [[ 0.,  0.],\n",
       "          [ 0.,  0.],\n",
       "          [ 0., 45.]],\n",
       "\n",
       "         [[ 0.,  0.],\n",
       "          [ 0.,  0.],\n",
       "          [ 0., 60.]],\n",
       "\n",
       "         [[ 0.,  0.],\n",
       "          [ 0.,  0.],\n",
       "          [ 0., 77.]]]]])"
      ]
     },
     "execution_count": 85,
     "metadata": {},
     "output_type": "execute_result"
    }
   ],
   "source": [
    "out"
   ]
  },
  {
   "cell_type": "code",
   "execution_count": 28,
   "metadata": {},
   "outputs": [
    {
     "data": {
      "text/plain": [
       "'jik'"
      ]
     },
     "execution_count": 28,
     "metadata": {},
     "output_type": "execute_result"
    }
   ],
   "source": [
    "unique_from_end(out_lbls)"
   ]
  },
  {
   "cell_type": "code",
   "execution_count": null,
   "metadata": {},
   "outputs": [],
   "source": [
    "def f(in_lbls, out_lbls, *vars):\n",
    "    "
   ]
  },
  {
   "cell_type": "code",
   "execution_count": 25,
   "metadata": {},
   "outputs": [],
   "source": [
    "i = 3\n",
    "x = np.arange(i)\n",
    "out = np.zeros((i,i,i,i))\n",
    "out_view = as_strided(out, shape=(i,),\n",
    "                     strides=((sum(out.strides),)))\n",
    "out_view[:] = x"
   ]
  },
  {
   "cell_type": "code",
   "execution_count": 26,
   "metadata": {},
   "outputs": [
    {
     "data": {
      "text/plain": [
       "array([[[[0., 0., 0.],\n",
       "         [0., 0., 0.],\n",
       "         [0., 0., 0.]],\n",
       "\n",
       "        [[0., 0., 0.],\n",
       "         [0., 0., 0.],\n",
       "         [0., 0., 0.]],\n",
       "\n",
       "        [[0., 0., 0.],\n",
       "         [0., 0., 0.],\n",
       "         [0., 0., 0.]]],\n",
       "\n",
       "\n",
       "       [[[0., 0., 0.],\n",
       "         [0., 0., 0.],\n",
       "         [0., 0., 0.]],\n",
       "\n",
       "        [[0., 0., 0.],\n",
       "         [0., 1., 0.],\n",
       "         [0., 0., 0.]],\n",
       "\n",
       "        [[0., 0., 0.],\n",
       "         [0., 0., 0.],\n",
       "         [0., 0., 0.]]],\n",
       "\n",
       "\n",
       "       [[[0., 0., 0.],\n",
       "         [0., 0., 0.],\n",
       "         [0., 0., 0.]],\n",
       "\n",
       "        [[0., 0., 0.],\n",
       "         [0., 0., 0.],\n",
       "         [0., 0., 0.]],\n",
       "\n",
       "        [[0., 0., 0.],\n",
       "         [0., 0., 0.],\n",
       "         [0., 0., 2.]]]])"
      ]
     },
     "execution_count": 26,
     "metadata": {},
     "output_type": "execute_result"
    }
   ],
   "source": [
    "out"
   ]
  },
  {
   "cell_type": "code",
   "execution_count": 27,
   "metadata": {},
   "outputs": [
    {
     "data": {
      "text/plain": [
       "array([[0., 0., 0.],\n",
       "       [0., 1., 0.],\n",
       "       [0., 0., 2.]])"
      ]
     },
     "execution_count": 27,
     "metadata": {},
     "output_type": "execute_result"
    }
   ],
   "source": [
    "np.einsum(\"ijij->ij\", out)"
   ]
  },
  {
   "cell_type": "code",
   "execution_count": null,
   "metadata": {},
   "outputs": [],
   "source": []
  }
 ],
 "metadata": {
  "kernelspec": {
   "display_name": "Python 3",
   "language": "python",
   "name": "python3"
  },
  "language_info": {
   "codemirror_mode": {
    "name": "ipython",
    "version": 3
   },
   "file_extension": ".py",
   "mimetype": "text/x-python",
   "name": "python",
   "nbconvert_exporter": "python",
   "pygments_lexer": "ipython3",
   "version": "3.6.3"
  }
 },
 "nbformat": 4,
 "nbformat_minor": 2
}
