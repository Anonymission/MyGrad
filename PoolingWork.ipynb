{
 "cells": [
  {
   "cell_type": "code",
   "execution_count": 1,
   "metadata": {},
   "outputs": [],
   "source": [
    "%load_ext autoreload\n",
    "%autoreload 2"
   ]
  },
  {
   "cell_type": "code",
   "execution_count": 2,
   "metadata": {},
   "outputs": [],
   "source": [
    "import numpy as np\n",
    "from mygrad.nnet.layers.utils import sliding_window_view\n",
    "from mygrad.nnet.layers import max_pool\n",
    "from mygrad import Tensor"
   ]
  },
  {
   "cell_type": "code",
   "execution_count": 6,
   "metadata": {},
   "outputs": [],
   "source": [
    "x = np.arange(2*4*6).reshape(2,4,6)\n",
    "np.random.shuffle(x.flat)"
   ]
  },
  {
   "cell_type": "code",
   "execution_count": 4,
   "metadata": {},
   "outputs": [],
   "source": [
    "x = np.array([[[27,  9, 24, 28, 30, 22],\n",
    "               [16, 34, 32, 35, 10, 19],\n",
    "               [45, 42,  8, 14,  0, 31],\n",
    "               [11, 18,  6,  7, 17, 21]],\n",
    "\n",
    "              [[29, 23, 25, 15,  1, 39],\n",
    "               [12, 44, 41, 38,  5,  3],\n",
    "               [46,  4, 26, 20, 37, 47],\n",
    "               [33, 43, 36, 40, 13,  2]]])"
   ]
  },
  {
   "cell_type": "code",
   "execution_count": 7,
   "metadata": {},
   "outputs": [
    {
     "data": {
      "text/plain": [
       "array([[[33, 27, 47, 11,  7, 36],\n",
       "        [20, 18,  9,  2,  3, 17],\n",
       "        [45, 31, 24, 12, 25, 19],\n",
       "        [28,  1,  8, 16, 34, 14]],\n",
       "\n",
       "       [[37, 39, 40, 41, 21, 13],\n",
       "        [35, 15,  6,  4, 23, 30],\n",
       "        [43, 46, 32, 10, 26, 42],\n",
       "        [38,  5, 44, 29,  0, 22]]])"
      ]
     },
     "execution_count": 7,
     "metadata": {},
     "output_type": "execute_result"
    }
   ],
   "source": [
    "x"
   ]
  },
  {
   "cell_type": "code",
   "execution_count": 6,
   "metadata": {},
   "outputs": [
    {
     "data": {
      "text/plain": [
       "array([27,  9, 24, 28, 30, 22, 16, 34, 32, 35, 10, 19, 45, 42,  8, 14,  0,\n",
       "       31, 11, 18,  6,  7, 17, 21])"
      ]
     },
     "execution_count": 6,
     "metadata": {},
     "output_type": "execute_result"
    }
   ],
   "source": [
    "x.reshape(*(), -1)"
   ]
  },
  {
   "cell_type": "code",
   "execution_count": 7,
   "metadata": {},
   "outputs": [
    {
     "data": {
      "text/plain": [
       "(4, 6)"
      ]
     },
     "execution_count": 7,
     "metadata": {},
     "output_type": "execute_result"
    }
   ],
   "source": [
    "x.shape"
   ]
  },
  {
   "cell_type": "code",
   "execution_count": 16,
   "metadata": {},
   "outputs": [],
   "source": [
    "wind = (2, 2, 2)\n",
    "stride=(1, 1, 2)\n",
    "#x = x[np.newaxis,:]"
   ]
  },
  {
   "cell_type": "code",
   "execution_count": 40,
   "metadata": {},
   "outputs": [],
   "source": [
    "x = Tensor(x)\n",
    "o = max_pool(x, wind, stride)\n",
    "g = np.arange(o.data.size)\n",
    "o.backward(g.reshape(o.shape))"
   ]
  },
  {
   "cell_type": "code",
   "execution_count": 43,
   "metadata": {},
   "outputs": [
    {
     "data": {
      "text/plain": [
       "array([[[39, 47, 36],\n",
       "        [46, 32, 42],\n",
       "        [46, 44, 42]]])"
      ]
     },
     "execution_count": 43,
     "metadata": {},
     "output_type": "execute_result"
    }
   ],
   "source": [
    "o.data"
   ]
  },
  {
   "cell_type": "code",
   "execution_count": 41,
   "metadata": {},
   "outputs": [
    {
     "data": {
      "text/plain": [
       "array([[[0, 1, 2],\n",
       "        [3, 4, 5],\n",
       "        [6, 7, 8]]])"
      ]
     },
     "execution_count": 41,
     "metadata": {},
     "output_type": "execute_result"
    }
   ],
   "source": [
    "g.reshape(o.shape)"
   ]
  },
  {
   "cell_type": "code",
   "execution_count": 42,
   "metadata": {},
   "outputs": [
    {
     "data": {
      "text/plain": [
       "array([[[ 0.,  0.,  1.,  0.,  0.,  2.],\n",
       "        [ 0.,  0.,  0.,  0.,  0.,  0.],\n",
       "        [ 0.,  0.,  0.,  0.,  0.,  0.],\n",
       "        [ 0.,  0.,  0.,  0.,  0.,  0.]],\n",
       "\n",
       "       [[ 0.,  0.,  0.,  0.,  0.,  0.],\n",
       "        [ 0.,  0.,  0.,  0.,  0.,  0.],\n",
       "        [ 0.,  9.,  4.,  0.,  0., 13.],\n",
       "        [ 0.,  0.,  7.,  0.,  0.,  0.]]])"
      ]
     },
     "execution_count": 42,
     "metadata": {},
     "output_type": "execute_result"
    }
   ],
   "source": [
    "x.grad"
   ]
  },
  {
   "cell_type": "code",
   "execution_count": 21,
   "metadata": {},
   "outputs": [],
   "source": [
    "x = Tensor(x)\n",
    "o = max_pool(x, wind, stride)\n",
    "o.backward()"
   ]
  },
  {
   "cell_type": "code",
   "execution_count": 22,
   "metadata": {},
   "outputs": [
    {
     "data": {
      "text/plain": [
       "array([[[0., 0., 1., 0., 0., 1.],\n",
       "        [0., 0., 0., 0., 0., 0.],\n",
       "        [0., 0., 0., 0., 0., 0.],\n",
       "        [0., 0., 0., 0., 0., 0.]],\n",
       "\n",
       "       [[0., 1., 0., 0., 0., 0.],\n",
       "        [0., 0., 0., 0., 0., 0.],\n",
       "        [0., 2., 1., 0., 0., 2.],\n",
       "        [0., 0., 1., 0., 0., 0.]]])"
      ]
     },
     "execution_count": 22,
     "metadata": {},
     "output_type": "execute_result"
    }
   ],
   "source": [
    "x.grad"
   ]
  },
  {
   "cell_type": "code",
   "execution_count": 38,
   "metadata": {},
   "outputs": [
    {
     "data": {
      "text/plain": [
       "Tensor(\n",
       "[[[39 47 36]\n",
       "  [46 32 42]\n",
       "  [46 44 42]]]\n",
       ")"
      ]
     },
     "execution_count": 38,
     "metadata": {},
     "output_type": "execute_result"
    }
   ],
   "source": [
    "o"
   ]
  },
  {
   "cell_type": "code",
   "execution_count": 37,
   "metadata": {},
   "outputs": [
    {
     "data": {
      "text/plain": [
       "Tensor(\n",
       "[[[33 27 47 11  7 36]\n",
       "  [20 18  9  2  3 17]\n",
       "  [45 31 24 12 25 19]\n",
       "  [28  1  8 16 34 14]]\n",
       "\n",
       " [[37 39 40 41 21 13]\n",
       "  [35 15  6  4 23 30]\n",
       "  [43 46 32 10 26 42]\n",
       "  [38  5 44 29  0 22]]]\n",
       ")"
      ]
     },
     "execution_count": 37,
     "metadata": {},
     "output_type": "execute_result"
    }
   ],
   "source": [
    "x"
   ]
  },
  {
   "cell_type": "code",
   "execution_count": 74,
   "metadata": {},
   "outputs": [
    {
     "data": {
      "text/plain": [
       "Tensor(\n",
       "[[[17 10 15 28 25 23]\n",
       "  [44 26 18 16 39 34]\n",
       "  [ 5 42 36  0  2 46]\n",
       "  [30 20  1 31 35 43]]\n",
       "\n",
       " [[ 6  7 45 27 11  8]\n",
       "  [37  4 41 22  9 33]\n",
       "  [47  3 13 32 21 38]\n",
       "  [19 12 40 24 14 29]]]\n",
       ")"
      ]
     },
     "execution_count": 74,
     "metadata": {},
     "output_type": "execute_result"
    }
   ],
   "source": [
    "x"
   ]
  },
  {
   "cell_type": "code",
   "execution_count": 93,
   "metadata": {},
   "outputs": [],
   "source": [
    "g = np.arange(o.data.size).reshape(o.shape)"
   ]
  },
  {
   "cell_type": "code",
   "execution_count": 94,
   "metadata": {},
   "outputs": [
    {
     "data": {
      "text/plain": [
       "array([[[0, 1, 2],\n",
       "        [3, 4, 5]]])"
      ]
     },
     "execution_count": 94,
     "metadata": {},
     "output_type": "execute_result"
    }
   ],
   "source": [
    "g"
   ]
  },
  {
   "cell_type": "code",
   "execution_count": 44,
   "metadata": {},
   "outputs": [
    {
     "data": {
      "text/plain": [
       "array([[[ 0.,  0.,  0.,  1.,  0.,  0.],\n",
       "        [ 2.,  3.,  0.,  0.,  4.,  0.],\n",
       "        [ 0.,  5.,  6.,  0.,  0.,  7.],\n",
       "        [ 8.,  0.,  0.,  9., 10., 11.]],\n",
       "\n",
       "       [[ 0.,  0., 12., 13.,  0.,  0.],\n",
       "        [ 0.,  0., 14.,  0.,  0., 15.],\n",
       "        [16.,  0.,  0., 17.,  0., 18.],\n",
       "        [ 0.,  0., 19.,  0.,  0., 20.]]])"
      ]
     },
     "execution_count": 44,
     "metadata": {},
     "output_type": "execute_result"
    }
   ],
   "source": [
    "x.grad"
   ]
  },
  {
   "cell_type": "code",
   "execution_count": 25,
   "metadata": {},
   "outputs": [],
   "source": [
    "x = np.copy(x[::-1])"
   ]
  },
  {
   "cell_type": "code",
   "execution_count": 26,
   "metadata": {},
   "outputs": [
    {
     "data": {
      "text/plain": [
       "array([[[29, 23, 25, 15,  1, 39],\n",
       "        [12, 44, 41, 38,  5,  3],\n",
       "        [46,  4, 26, 20, 37, 47],\n",
       "        [33, 43, 36, 40, 13,  2]],\n",
       "\n",
       "       [[27,  9, 24, 28, 30, 22],\n",
       "        [16, 34, 32, 35, 10, 19],\n",
       "        [45, 42,  8, 14,  0, 31],\n",
       "        [11, 18,  6,  7, 17, 21]]])"
      ]
     },
     "execution_count": 26,
     "metadata": {},
     "output_type": "execute_result"
    }
   ],
   "source": [
    "x"
   ]
  },
  {
   "cell_type": "code",
   "execution_count": 27,
   "metadata": {},
   "outputs": [
    {
     "data": {
      "text/plain": [
       "Tensor(\n",
       "[[[44 44 41 38 39]\n",
       "  [46 44 41 38 47]\n",
       "  [46 43 40 40 47]]]\n",
       ")"
      ]
     },
     "execution_count": 27,
     "metadata": {},
     "output_type": "execute_result"
    }
   ],
   "source": [
    "X = Tensor(x)\n",
    "o = max_pool(X, wind, stride)\n",
    "o.backward()\n",
    "o"
   ]
  },
  {
   "cell_type": "code",
   "execution_count": 28,
   "metadata": {},
   "outputs": [
    {
     "data": {
      "text/plain": [
       "array([[[0., 0., 0., 0., 0., 1.],\n",
       "        [0., 3., 2., 2., 0., 0.],\n",
       "        [2., 0., 0., 0., 0., 2.],\n",
       "        [0., 1., 0., 2., 0., 0.]],\n",
       "\n",
       "       [[0., 0., 0., 0., 0., 0.],\n",
       "        [0., 0., 0., 0., 0., 0.],\n",
       "        [0., 0., 0., 0., 0., 0.],\n",
       "        [0., 0., 0., 0., 0., 0.]]])"
      ]
     },
     "execution_count": 28,
     "metadata": {},
     "output_type": "execute_result"
    }
   ],
   "source": [
    "X.grad"
   ]
  },
  {
   "cell_type": "code",
   "execution_count": 44,
   "metadata": {},
   "outputs": [],
   "source": [
    "    x = np.array([[[17, 10, 15, 28, 25, 23],\n",
    "                   [44, 26, 18, 16, 39, 34],\n",
    "                   [ 5, 42, 36,  0,  2, 46],\n",
    "                   [30, 20,  1, 31, 35, 43]],\n",
    "\n",
    "                  [[ 6,  7, 45, 27, 11,  8],\n",
    "                   [37,  4, 41, 22,  9, 33],\n",
    "                   [47,  3, 13, 32, 21, 38],\n",
    "                   [19, 12, 40, 24, 14, 29]]])\n",
    "    x = Tensor(x)\n",
    "    pool = (3,)\n",
    "    stride = (1,)\n",
    "    out = max_pool(x, pool, stride)\n",
    "    out.backward(np.arange(out.data.size).reshape(out.shape))"
   ]
  },
  {
   "cell_type": "code",
   "execution_count": 47,
   "metadata": {},
   "outputs": [
    {
     "data": {
      "text/plain": [
       "array([[[ 0.,  0.,  0.,  6.,  0.,  0.],\n",
       "        [ 4.,  5.,  0.,  0., 13.,  0.],\n",
       "        [ 0., 17., 10.,  0.,  0., 11.],\n",
       "        [12.,  0.,  0., 13., 14., 15.]],\n",
       "\n",
       "       [[ 0.,  0., 51., 19.,  0.,  0.],\n",
       "        [ 0.,  0., 63.,  0.,  0., 23.],\n",
       "        [24.,  0.,  0., 51.,  0., 27.],\n",
       "        [ 0.,  0., 87.,  0.,  0., 31.]]])"
      ]
     },
     "execution_count": 47,
     "metadata": {},
     "output_type": "execute_result"
    }
   ],
   "source": [
    "x.grad"
   ]
  },
  {
   "cell_type": "code",
   "execution_count": 27,
   "metadata": {},
   "outputs": [
    {
     "name": "stdout",
     "output_type": "stream",
     "text": [
      "(-1, -2)\n",
      "(1, 2)\n"
     ]
    },
    {
     "data": {
      "text/plain": [
       "array([[[34, 34, 35, 35, 30],\n",
       "        [45, 42, 35, 35, 31],\n",
       "        [45, 42, 14, 17, 31]],\n",
       "\n",
       "       [[44, 44, 41, 38, 39],\n",
       "        [46, 44, 41, 38, 47],\n",
       "        [46, 43, 40, 40, 47]]])"
      ]
     },
     "execution_count": 27,
     "metadata": {},
     "output_type": "execute_result"
    }
   ],
   "source": [
    "def fwd(x, wind, stride):\n",
    "    pool_axes = tuple(-(i + 1) for i in range(len(wind)))\n",
    "    print(pool_axes)\n",
    "    num_pool = len(wind)\n",
    "    num_no_pool = x.ndim - num_pool\n",
    "    pool_axes = tuple(range(num_no_pool, x.ndim))\n",
    "    print(pool_axes)\n",
    "    maxed = sliding_window_view(x, wind, stride).max(axis=tuple(-1*i for i in pool_axes))\n",
    "    axes = tuple(range(maxed.ndim))\n",
    "    non = x.ndim - len(pool_axes)\n",
    "    return maxed.transpose(axes[-non:] + axes[:-non])\n",
    "\n",
    "fwd(x, wind, stride)"
   ]
  },
  {
   "cell_type": "code",
   "execution_count": 31,
   "metadata": {},
   "outputs": [
    {
     "data": {
      "text/plain": [
       "array([45, 47])"
      ]
     },
     "execution_count": 31,
     "metadata": {},
     "output_type": "execute_result"
    }
   ],
   "source": [
    "x.max(axis=(-1, -2))"
   ]
  },
  {
   "cell_type": "code",
   "execution_count": 32,
   "metadata": {},
   "outputs": [
    {
     "data": {
      "text/plain": [
       "array([45, 47])"
      ]
     },
     "execution_count": 32,
     "metadata": {},
     "output_type": "execute_result"
    }
   ],
   "source": [
    "x.max(axis=(1,2))"
   ]
  },
  {
   "cell_type": "code",
   "execution_count": 10,
   "metadata": {},
   "outputs": [],
   "source": [
    "num_pool = len(wind)\n",
    "num_no_pool = x.ndim - num_pool"
   ]
  },
  {
   "cell_type": "code",
   "execution_count": 19,
   "metadata": {},
   "outputs": [
    {
     "data": {
      "text/plain": [
       "3"
      ]
     },
     "execution_count": 19,
     "metadata": {},
     "output_type": "execute_result"
    }
   ],
   "source": [
    "x.ndim"
   ]
  },
  {
   "cell_type": "code",
   "execution_count": 11,
   "metadata": {},
   "outputs": [
    {
     "data": {
      "text/plain": [
       "(1, 2)"
      ]
     },
     "execution_count": 11,
     "metadata": {},
     "output_type": "execute_result"
    }
   ],
   "source": [
    "tuple(range(num_no_pool, x.ndim))"
   ]
  },
  {
   "cell_type": "code",
   "execution_count": 12,
   "metadata": {},
   "outputs": [
    {
     "data": {
      "text/plain": [
       "(-1, -2)"
      ]
     },
     "execution_count": 12,
     "metadata": {},
     "output_type": "execute_result"
    }
   ],
   "source": [
    "tuple(-(i + 1) for i in range(len(wind)))"
   ]
  },
  {
   "cell_type": "code",
   "execution_count": 10,
   "metadata": {},
   "outputs": [
    {
     "data": {
      "text/plain": [
       "(2, 4, 6)"
      ]
     },
     "execution_count": 10,
     "metadata": {},
     "output_type": "execute_result"
    }
   ],
   "source": [
    "x.shape"
   ]
  },
  {
   "cell_type": "code",
   "execution_count": 11,
   "metadata": {},
   "outputs": [],
   "source": [
    "sl = sliding_window_view(x, wind, stride)"
   ]
  },
  {
   "cell_type": "code",
   "execution_count": 14,
   "metadata": {},
   "outputs": [],
   "source": []
  },
  {
   "cell_type": "code",
   "execution_count": 13,
   "metadata": {},
   "outputs": [],
   "source": [
    "pool_axes = tuple(-(i + 1) for i in range(len(wind)))\n",
    "sl = sliding_window_view(x, wind, stride)\n",
    "maxed = sl.reshape(sl.shape[:-len(pool_axes)] + (-1,)).argmax(-1)\n",
    "axes = tuple(range(maxed.ndim))\n",
    "non = x.ndim - len(pool_axes)\n",
    "maxed = maxed.transpose(axes[-non:] + axes[:-non])"
   ]
  },
  {
   "cell_type": "code",
   "execution_count": 14,
   "metadata": {},
   "outputs": [],
   "source": [
    "N, *_ = x.shape\n",
    "wind_shape = sliding_window_view(x, wind, stride).shape"
   ]
  },
  {
   "cell_type": "code",
   "execution_count": 15,
   "metadata": {},
   "outputs": [],
   "source": [
    "row_major_offset = tuple(np.cumprod(x.shape[-len(wind):][:0:-1])[::-1]) + (1,)"
   ]
  },
  {
   "cell_type": "code",
   "execution_count": 16,
   "metadata": {},
   "outputs": [
    {
     "data": {
      "text/plain": [
       "(6, 1)"
      ]
     },
     "execution_count": 16,
     "metadata": {},
     "output_type": "execute_result"
    }
   ],
   "source": [
    "row_major_offset"
   ]
  },
  {
   "cell_type": "code",
   "execution_count": 17,
   "metadata": {},
   "outputs": [
    {
     "data": {
      "text/plain": [
       "(1, 1)"
      ]
     },
     "execution_count": 17,
     "metadata": {},
     "output_type": "execute_result"
    }
   ],
   "source": [
    "stride"
   ]
  },
  {
   "cell_type": "code",
   "execution_count": 18,
   "metadata": {},
   "outputs": [],
   "source": [
    "in_window_offset = sum(ind * off for ind, off in zip(np.unravel_index(maxed, wind), row_major_offset)) # i*W + j"
   ]
  },
  {
   "cell_type": "code",
   "execution_count": 19,
   "metadata": {},
   "outputs": [],
   "source": [
    "window_offset = sum(ind * s * off for ind, s, off in zip(np.indices(wind_shape[:len(wind)]), stride, row_major_offset)) #ih*stride[0]*W + jh*stride[1]"
   ]
  },
  {
   "cell_type": "code",
   "execution_count": 20,
   "metadata": {},
   "outputs": [
    {
     "data": {
      "text/plain": [
       "array([[[ 7,  7,  9,  9,  4],\n",
       "        [12, 13,  9,  9, 17],\n",
       "        [12, 13, 15, 22, 17]],\n",
       "\n",
       "       [[ 7,  7,  8,  9,  5],\n",
       "        [12,  7,  8,  9, 17],\n",
       "        [12, 19, 21, 21, 17]]], dtype=int64)"
      ]
     },
     "execution_count": 20,
     "metadata": {},
     "output_type": "execute_result"
    }
   ],
   "source": [
    "in_window_offset + window_offset"
   ]
  },
  {
   "cell_type": "code",
   "execution_count": 21,
   "metadata": {},
   "outputs": [
    {
     "data": {
      "text/plain": [
       "(2, 3, 5)"
      ]
     },
     "execution_count": 21,
     "metadata": {},
     "output_type": "execute_result"
    }
   ],
   "source": [
    "maxed.shape"
   ]
  },
  {
   "cell_type": "code",
   "execution_count": 22,
   "metadata": {},
   "outputs": [],
   "source": [
    "NNN = np.indices((N, np.prod(maxed.shape[-len(wind):])))\n",
    "NNN[-1] = (in_window_offset + window_offset).reshape(N, -1)"
   ]
  },
  {
   "cell_type": "code",
   "execution_count": 23,
   "metadata": {},
   "outputs": [
    {
     "data": {
      "text/plain": [
       "array([[[ 0,  0,  0,  0,  0,  0,  0,  0,  0,  0,  0,  0,  0,  0,  0],\n",
       "        [ 1,  1,  1,  1,  1,  1,  1,  1,  1,  1,  1,  1,  1,  1,  1]],\n",
       "\n",
       "       [[ 7,  7,  9,  9,  4, 12, 13,  9,  9, 17, 12, 13, 15, 22, 17],\n",
       "        [ 7,  7,  8,  9,  5, 12,  7,  8,  9, 17, 12, 19, 21, 21, 17]]])"
      ]
     },
     "execution_count": 23,
     "metadata": {},
     "output_type": "execute_result"
    }
   ],
   "source": [
    "NNN"
   ]
  },
  {
   "cell_type": "code",
   "execution_count": 24,
   "metadata": {},
   "outputs": [
    {
     "data": {
      "text/plain": [
       "array([34, 34, 35, 35, 30, 45, 42, 35, 35, 31, 45, 42, 14, 17, 31, 44, 44,\n",
       "       41, 38, 39, 46, 44, 41, 38, 47, 46, 43, 40, 40, 47])"
      ]
     },
     "execution_count": 24,
     "metadata": {},
     "output_type": "execute_result"
    }
   ],
   "source": [
    "g = fwd(x, wind, stride)\n",
    "g.ravel()"
   ]
  },
  {
   "cell_type": "code",
   "execution_count": 25,
   "metadata": {},
   "outputs": [
    {
     "data": {
      "text/plain": [
       "array([[[  0.,   0.,   0.,   0.,  30.,   0.],\n",
       "        [  0.,  68.,   0., 140.,   0.,   0.],\n",
       "        [ 90.,  84.,   0.,  14.,   0.,  62.],\n",
       "        [  0.,   0.,   0.,   0.,  17.,   0.]],\n",
       "\n",
       "       [[  0.,   0.,   0.,   0.,   0.,  39.],\n",
       "        [  0., 132.,  82.,  76.,   0.,   0.],\n",
       "        [ 92.,   0.,   0.,   0.,   0.,  94.],\n",
       "        [  0.,  43.,   0.,  80.,   0.,   0.]]])"
      ]
     },
     "execution_count": 25,
     "metadata": {},
     "output_type": "execute_result"
    }
   ],
   "source": [
    "z = np.zeros(x.shape[:-len(wind)] + (np.prod(x.shape[-len(wind):]),))\n",
    "np.add.at(z, tuple(NNN), g.reshape(*x.shape[:-len(wind)], -1))\n",
    "z.reshape(x.shape)"
   ]
  },
  {
   "cell_type": "code",
   "execution_count": 21,
   "metadata": {},
   "outputs": [
    {
     "data": {
      "text/plain": [
       "array([[[27,  9, 24, 28, 30, 22],\n",
       "        [16, 34, 32, 35, 10, 19],\n",
       "        [45, 42,  8, 14,  0, 31],\n",
       "        [11, 18,  6,  7, 17, 21]],\n",
       "\n",
       "       [[29, 23, 25, 15,  1, 39],\n",
       "        [12, 44, 41, 38,  5,  3],\n",
       "        [46,  4, 26, 20, 37, 47],\n",
       "        [33, 43, 36, 40, 13,  2]]])"
      ]
     },
     "execution_count": 21,
     "metadata": {},
     "output_type": "execute_result"
    }
   ],
   "source": [
    "x"
   ]
  },
  {
   "cell_type": "code",
   "execution_count": 23,
   "metadata": {},
   "outputs": [],
   "source": []
  },
  {
   "cell_type": "code",
   "execution_count": 121,
   "metadata": {},
   "outputs": [
    {
     "data": {
      "text/plain": [
       "(3, 5, 2, 4)"
      ]
     },
     "execution_count": 121,
     "metadata": {},
     "output_type": "execute_result"
    }
   ],
   "source": [
    "sl.shape"
   ]
  },
  {
   "cell_type": "code",
   "execution_count": 162,
   "metadata": {},
   "outputs": [],
   "source": [
    "offset = (np.indices((Hp, Wp)) * np.array(stride)[:,np.newaxis,np.newaxis]).sum(0)"
   ]
  },
  {
   "cell_type": "code",
   "execution_count": 185,
   "metadata": {},
   "outputs": [],
   "source": [
    "ih,jh = np.indices((Hp, Wp))"
   ]
  },
  {
   "cell_type": "code",
   "execution_count": 188,
   "metadata": {},
   "outputs": [],
   "source": []
  },
  {
   "cell_type": "code",
   "execution_count": 189,
   "metadata": {},
   "outputs": [
    {
     "data": {
      "text/plain": [
       "array([[ 0,  1,  2,  3,  4],\n",
       "       [ 6,  7,  8,  9, 10],\n",
       "       [12, 13, 14, 15, 16]])"
      ]
     },
     "execution_count": 189,
     "metadata": {},
     "output_type": "execute_result"
    }
   ],
   "source": [
    "window_offset"
   ]
  },
  {
   "cell_type": "code",
   "execution_count": 190,
   "metadata": {},
   "outputs": [
    {
     "data": {
      "text/plain": [
       "array([[[ 7,  7,  9,  9,  4],\n",
       "        [12, 13,  9,  9, 17],\n",
       "        [12, 13, 15, 22, 17]],\n",
       "\n",
       "       [[ 7,  7,  8,  9,  5],\n",
       "        [12,  7,  8,  9, 17],\n",
       "        [12, 19, 21, 21, 17]]], dtype=int64)"
      ]
     },
     "execution_count": 190,
     "metadata": {},
     "output_type": "execute_result"
    }
   ],
   "source": [
    "in_window_offset + window_offset"
   ]
  },
  {
   "cell_type": "code",
   "execution_count": 195,
   "metadata": {},
   "outputs": [
    {
     "data": {
      "text/plain": [
       "(2, 3, 5)"
      ]
     },
     "execution_count": 195,
     "metadata": {},
     "output_type": "execute_result"
    }
   ],
   "source": [
    "(in_window_offset + window_offset).shape"
   ]
  },
  {
   "cell_type": "code",
   "execution_count": 209,
   "metadata": {},
   "outputs": [],
   "source": []
  },
  {
   "cell_type": "code",
   "execution_count": 210,
   "metadata": {},
   "outputs": [],
   "source": []
  },
  {
   "cell_type": "code",
   "execution_count": 211,
   "metadata": {},
   "outputs": [
    {
     "data": {
      "text/plain": [
       "array([[[ 0,  0,  0,  0,  0,  0,  0,  0,  0,  0,  0,  0,  0,  0,  0],\n",
       "        [ 1,  1,  1,  1,  1,  1,  1,  1,  1,  1,  1,  1,  1,  1,  1]],\n",
       "\n",
       "       [[ 7,  7,  9,  9,  4, 12, 13,  9,  9, 17, 12, 13, 15, 22, 17],\n",
       "        [ 7,  7,  8,  9,  5, 12,  7,  8,  9, 17, 12, 19, 21, 21, 17]]])"
      ]
     },
     "execution_count": 211,
     "metadata": {},
     "output_type": "execute_result"
    }
   ],
   "source": [
    "NNN"
   ]
  },
  {
   "cell_type": "code",
   "execution_count": 203,
   "metadata": {},
   "outputs": [
    {
     "data": {
      "text/plain": [
       "array([[[0, 0, 0, 0, 0],\n",
       "        [1, 1, 1, 1, 1],\n",
       "        [2, 2, 2, 2, 2]],\n",
       "\n",
       "       [[0, 0, 0, 0, 0],\n",
       "        [1, 1, 1, 1, 1],\n",
       "        [2, 2, 2, 2, 2]]])"
      ]
     },
     "execution_count": 203,
     "metadata": {},
     "output_type": "execute_result"
    }
   ],
   "source": [
    "N1"
   ]
  },
  {
   "cell_type": "code",
   "execution_count": 212,
   "metadata": {},
   "outputs": [
    {
     "data": {
      "text/plain": [
       "array([[0., 0., 0., 0., 0., 0., 0., 0., 0., 0., 0., 0., 0., 0., 0., 0.,\n",
       "        0., 0., 0., 0., 0., 0., 0., 0.],\n",
       "       [0., 0., 0., 0., 0., 0., 0., 0., 0., 0., 0., 0., 0., 0., 0., 0.,\n",
       "        0., 0., 0., 0., 0., 0., 0., 0.]])"
      ]
     },
     "execution_count": 212,
     "metadata": {},
     "output_type": "execute_result"
    }
   ],
   "source": []
  },
  {
   "cell_type": "code",
   "execution_count": 153,
   "metadata": {},
   "outputs": [],
   "source": [
    "i,j = np.indices(z.shape)"
   ]
  },
  {
   "cell_type": "code",
   "execution_count": 213,
   "metadata": {},
   "outputs": [],
   "source": []
  },
  {
   "cell_type": "code",
   "execution_count": 215,
   "metadata": {},
   "outputs": [
    {
     "data": {
      "text/plain": [
       "array([[[0., 0., 0., 0., 1., 0.],\n",
       "        [0., 2., 0., 4., 0., 0.],\n",
       "        [2., 2., 0., 1., 0., 2.],\n",
       "        [0., 0., 0., 0., 1., 0.]],\n",
       "\n",
       "       [[0., 0., 0., 0., 0., 1.],\n",
       "        [0., 3., 2., 2., 0., 0.],\n",
       "        [2., 0., 0., 0., 0., 2.],\n",
       "        [0., 1., 0., 2., 0., 0.]]])"
      ]
     },
     "execution_count": 215,
     "metadata": {},
     "output_type": "execute_result"
    }
   ],
   "source": []
  },
  {
   "cell_type": "code",
   "execution_count": 219,
   "metadata": {},
   "outputs": [],
   "source": [
    "from mygrad.nnet.layers import max_pool\n",
    "from mygrad import Tensor"
   ]
  },
  {
   "cell_type": "code",
   "execution_count": 220,
   "metadata": {},
   "outputs": [],
   "source": [
    "X = Tensor(x)"
   ]
  },
  {
   "cell_type": "code",
   "execution_count": 222,
   "metadata": {},
   "outputs": [
    {
     "data": {
      "text/plain": [
       "array([[[27,  9, 24, 28, 30, 22],\n",
       "        [16, 34, 32, 35, 10, 19],\n",
       "        [45, 42,  8, 14,  0, 31],\n",
       "        [11, 18,  6,  7, 17, 21]],\n",
       "\n",
       "       [[29, 23, 25, 15,  1, 39],\n",
       "        [12, 44, 41, 38,  5,  3],\n",
       "        [46,  4, 26, 20, 37, 47],\n",
       "        [33, 43, 36, 40, 13,  2]]])"
      ]
     },
     "execution_count": 222,
     "metadata": {},
     "output_type": "execute_result"
    }
   ],
   "source": [
    "x"
   ]
  },
  {
   "cell_type": "code",
   "execution_count": 95,
   "metadata": {},
   "outputs": [],
   "source": [
    "np.add.at(z, (np.array([0,0]), np.array([0,1])), [2,3])"
   ]
  },
  {
   "cell_type": "code",
   "execution_count": 105,
   "metadata": {},
   "outputs": [],
   "source": [
    "o = []\n",
    "for ind in np.ndindex((3,5)):\n",
    "    # ind: (h', w') - grid-position of filter placement\n",
    "    o.append([(i * s, i * s + w) for i, w, s in zip(ind, wind, stride)])"
   ]
  },
  {
   "cell_type": "code",
   "execution_count": 108,
   "metadata": {},
   "outputs": [
    {
     "data": {
      "text/plain": [
       "[[(0, 2), (0, 2)],\n",
       " [(0, 2), (1, 3)],\n",
       " [(0, 2), (2, 4)],\n",
       " [(0, 2), (3, 5)],\n",
       " [(0, 2), (4, 6)],\n",
       " [(1, 3), (0, 2)],\n",
       " [(1, 3), (1, 3)],\n",
       " [(1, 3), (2, 4)],\n",
       " [(1, 3), (3, 5)],\n",
       " [(1, 3), (4, 6)],\n",
       " [(2, 4), (0, 2)],\n",
       " [(2, 4), (1, 3)],\n",
       " [(2, 4), (2, 4)],\n",
       " [(2, 4), (3, 5)],\n",
       " [(2, 4), (4, 6)]]"
      ]
     },
     "execution_count": 108,
     "metadata": {},
     "output_type": "execute_result"
    }
   ],
   "source": [
    "o"
   ]
  },
  {
   "cell_type": "code",
   "execution_count": null,
   "metadata": {},
   "outputs": [],
   "source": []
  }
 ],
 "metadata": {
  "kernelspec": {
   "display_name": "Python 3",
   "language": "python",
   "name": "python3"
  },
  "language_info": {
   "codemirror_mode": {
    "name": "ipython",
    "version": 3
   },
   "file_extension": ".py",
   "mimetype": "text/x-python",
   "name": "python",
   "nbconvert_exporter": "python",
   "pygments_lexer": "ipython3",
   "version": "3.6.3"
  }
 },
 "nbformat": 4,
 "nbformat_minor": 2
}
