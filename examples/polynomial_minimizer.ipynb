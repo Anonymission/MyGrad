{
 "cells": [
  {
   "cell_type": "markdown",
   "metadata": {},
   "source": [
    "This notebook will showcase an application of MyGrad for minimizing a simple 1D polynomial. We'll try to minimize the polynomial\n",
    "\n",
    "\\begin{equation}\n",
    "f(x) = x^4 - 3x^3 - 7x^2 + 9x - 4\n",
    "\\end{equation}\n",
    "\n",
    "using gradient descent."
   ]
  },
  {
   "cell_type": "markdown",
   "metadata": {},
   "source": [
    "First, we'll need to import the `Tensor` object from MyGrad. We'll also use matplotlib to view our polynomial and our iterative solution and NumPy for some convenient functions."
   ]
  },
  {
   "cell_type": "code",
   "execution_count": 1,
   "metadata": {},
   "outputs": [],
   "source": [
    "import numpy as np\n",
    "import matplotlib.pyplot as plt\n",
    "%matplotlib inline\n",
    "\n",
    "from mygrad import Tensor"
   ]
  },
  {
   "cell_type": "markdown",
   "metadata": {},
   "source": [
    "Now we'll define our polynomial $f(x)$"
   ]
  },
  {
   "cell_type": "code",
   "execution_count": 2,
   "metadata": {},
   "outputs": [],
   "source": [
    "def f(x):\n",
    "    return x**4 - 3*x**3 - 7*x**2 + 9*x - 4"
   ]
  },
  {
   "cell_type": "markdown",
   "metadata": {},
   "source": [
    "Let's plot $f$ on a domain to see what our problem looks like"
   ]
  },
  {
   "cell_type": "code",
   "execution_count": 3,
   "metadata": {},
   "outputs": [
    {
     "data": {
      "text/plain": [
       "[<matplotlib.lines.Line2D at 0x7f95acac0978>]"
      ]
     },
     "execution_count": 3,
     "metadata": {},
     "output_type": "execute_result"
    },
    {
     "data": {
      "image/png": "[encoded data removed]",
      "text/plain": [
       "<matplotlib.figure.Figure at 0x7f95acac08d0>"
      ]
     },
     "metadata": {},
     "output_type": "display_data"
    }
   ],
   "source": [
    "x = np.linspace(-3, 5, 1000)\n",
    "\n",
    "fig, ax = plt.subplots()\n",
    "ax.plot(x, f(x))"
   ]
  },
  {
   "cell_type": "markdown",
   "metadata": {},
   "source": [
    "We can see our global minimum is somewhere around 3.1. Let's use MyGrad to help us find a more exact solution.\n",
    "\n",
    "We'll use the gradient descenct algorithm to to this. We pick a point close to our minimum, then evaluate how good our estimate is based on the gradient of our function at that point. Then we'll step our guess a small amount to be a little better next time. Iterating on this, we converge to a solution.\n",
    "\n",
    "Even with a pretty bad guess, we can often arrive at a good solution. First, let's start with a guess of $x = 1$."
   ]
  },
  {
   "cell_type": "code",
   "execution_count": 4,
   "metadata": {},
   "outputs": [],
   "source": [
    "step_size = 0.005       # a small amount to update our guesses\n",
    "guesses = [Tensor(1.0)] # our estimates\n",
    "\n",
    "for iteration in range(100):\n",
    "    guess_val = f(guesses[-1])                               # get the value of the function at our guess\n",
    "    guess_val.backward()                                     # compute the gradient of f with respect to our guess\n",
    "    guesses.append(guesses[-1] - step_size*guesses[-1].grad) # update our guess"
   ]
  },
  {
   "cell_type": "markdown",
   "metadata": {},
   "source": [
    "Let's see how our guesses do. We'll plot the guesses over time, using transparency to indicate which points are older."
   ]
  },
  {
   "cell_type": "code",
   "execution_count": 5,
   "metadata": {},
   "outputs": [
    {
     "data": {
      "image/png": "[encoded data removed]",
      "text/plain": [
       "<matplotlib.figure.Figure at 0x7f95acac0898>"
      ]
     },
     "metadata": {},
     "output_type": "display_data"
    }
   ],
   "source": [
    "fig, ax = plt.subplots()\n",
    "ax.plot(x, f(x))\n",
    "\n",
    "for i, guess in enumerate(guesses):\n",
    "    ax.scatter(guess, f(guess), color='red', alpha=i/len(guesses))"
   ]
  },
  {
   "cell_type": "markdown",
   "metadata": {},
   "source": [
    "We can see a trail from our $x=1$ value down to our minimum; just what we expect! Let's see what our predicted minimum is and how close it is to a critical point of the function."
   ]
  },
  {
   "cell_type": "code",
   "execution_count": 6,
   "metadata": {},
   "outputs": [
    {
     "name": "stdout",
     "output_type": "stream",
     "text": [
      "Minimum: f(3.1370619754342215) = -40.42312563910335\n"
     ]
    }
   ],
   "source": [
    "print(f'Minimum: f({guesses[-1].data}) = {f(guesses[-1].data)}')"
   ]
  },
  {
   "cell_type": "code",
   "execution_count": 7,
   "metadata": {},
   "outputs": [
    {
     "data": {
      "text/plain": [
       "-7.74441843987006e-09"
      ]
     },
     "execution_count": 7,
     "metadata": {},
     "output_type": "execute_result"
    }
   ],
   "source": [
    "df = lambda x: 4*x**3 - 9*x**2 - 14*x + 9\n",
    "df(guesses[-1].data)"
   ]
  },
  {
   "cell_type": "markdown",
   "metadata": {},
   "source": [
    "Very close to a critical point!"
   ]
  },
  {
   "cell_type": "markdown",
   "metadata": {},
   "source": [
    "Of course, the downside to our gradient method is that if our guess isn't reasonably close to our global minimum, it may well find a local minimum:"
   ]
  },
  {
   "cell_type": "code",
   "execution_count": 8,
   "metadata": {},
   "outputs": [
    {
     "name": "stdout",
     "output_type": "stream",
     "text": [
      "Bad Minimum: f(-1.3995390155773912) = -18.246403687477958\n"
     ]
    },
    {
     "data": {
      "image/png": "[encoded data removed]",
      "text/plain": [
       "<matplotlib.figure.Figure at 0x7f95ac76d7f0>"
      ]
     },
     "metadata": {},
     "output_type": "display_data"
    }
   ],
   "source": [
    "step_size = 0.005\n",
    "guesses = [Tensor(-2.9)]\n",
    "\n",
    "for iteration in range(100):\n",
    "    guess_val = f(guesses[-1])\n",
    "    guess_val.backward()\n",
    "    guesses.append(guesses[-1] - step_size*guesses[-1].grad)\n",
    "    \n",
    "\n",
    "fig, ax = plt.subplots()\n",
    "ax.plot(x, f(x))\n",
    "\n",
    "for i, guess in enumerate(guesses):\n",
    "    ax.scatter(guess, f(guess), color='red', alpha=i/len(guesses))\n",
    "    \n",
    "print(f'Bad Minimum: f({guesses[-1].data}) = {f(guesses[-1].data)}')"
   ]
  }
 ],
 "metadata": {
  "kernelspec": {
   "display_name": "Python 3",
   "language": "python",
   "name": "python3"
  },
  "language_info": {
   "codemirror_mode": {
    "name": "ipython",
    "version": 3
   },
   "file_extension": ".py",
   "mimetype": "text/x-python",
   "name": "python",
   "nbconvert_exporter": "python",
   "pygments_lexer": "ipython3",
   "version": "3.6.4"
  }
 },
 "nbformat": 4,
 "nbformat_minor": 2
}
